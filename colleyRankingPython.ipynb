{
 "cells": [
  {
   "cell_type": "markdown",
   "metadata": {},
   "source": [
    "# Colley ranking\n",
    "\n",
    "Description: Construct a Colley ranking of data.\n",
    "  \n",
    "Created by Tim Chartier\n",
    "\n",
    "### Set parameters\n",
    "\n",
    "gameFilename - game data file, presumed to be in the format from \n",
    "the Massey rating data server, which can be found at \n",
    "http://www.masseyratings.com/. \n",
    "\n",
    "teamFilename - team data file\n",
    "\n",
    "k - number of teams to print in the final ranking - set to 0 to get all teams"
   ]
  },
  {
   "cell_type": "code",
   "execution_count": 22,
   "metadata": {},
   "outputs": [],
   "source": [
    "gameFilename = 'data/2021games.txt'\n",
    "teamFilename = 'data/2021teams.txt'\n",
    "k = 10"
   ]
  },
  {
   "cell_type": "markdown",
   "metadata": {},
   "source": [
    "### Load the team names into an array"
   ]
  },
  {
   "cell_type": "code",
   "execution_count": 23,
   "metadata": {},
   "outputs": [],
   "source": [
    "import pandas as pd\n",
    "\n",
    "teamNames = pd.read_csv(teamFilename, header = None)\n",
    "numTeams = len(teamNames)"
   ]
  },
  {
   "cell_type": "markdown",
   "metadata": {},
   "source": [
    "### Load the games"
   ]
  },
  {
   "cell_type": "code",
   "execution_count": 24,
   "metadata": {},
   "outputs": [],
   "source": [
    "# columns of games are:\n",
    "#\tcolumn 0 = days since 1/1/0000\n",
    "#\tcolumn 1 = date in YYYYMMDD format\n",
    "#\tcolumn 2 = team1 index\n",
    "#\tcolumn 3 = team1 homefield (1 = home, -1 = away, 0 = neutral)\n",
    "#\tcolumn 4 = team1 score\n",
    "#\tcolumn 5 = team2 index\n",
    "#\tcolumn 6 = team2 homefield (1 = home, -1 = away, 0 = neutral)\n",
    "#\tcolumn 7 = team2 score\n",
    "games = pd.read_csv(gameFilename, header = None)\n",
    "numGames = len(games)"
   ]
  },
  {
   "cell_type": "markdown",
   "metadata": {},
   "source": [
    "### Create the Colley linear system"
   ]
  },
  {
   "cell_type": "code",
   "execution_count": 25,
   "metadata": {},
   "outputs": [
    {
     "name": "stdout",
     "output_type": "stream",
     "text": [
      "[[74. -3. -3. -3. -3. -3. -2. -2. -3. -2. -2. -3. -2. -2. -2. -3. -3. -2.\n",
      "  -2. -3. -2. -3. -3. -2. -2. -2. -2. -3. -2. -3.]\n",
      " [-3. 74. -3. -3. -3. -3. -2. -2. -3. -2. -2. -3. -2. -2. -2. -3. -3. -2.\n",
      "  -2. -3. -2. -3. -3. -2. -2. -2. -2. -3. -2. -3.]\n",
      " [-3. -3. 74. -3. -3. -3. -2. -2. -3. -2. -2. -3. -2. -2. -2. -3. -3. -2.\n",
      "  -2. -3. -2. -3. -3. -2. -2. -2. -2. -3. -2. -3.]\n",
      " [-3. -3. -3. 74. -3. -3. -2. -2. -3. -2. -2. -3. -2. -2. -2. -3. -3. -2.\n",
      "  -2. -3. -2. -3. -3. -2. -2. -2. -2. -3. -2. -3.]\n",
      " [-3. -3. -3. -3. 74. -3. -2. -2. -3. -2. -2. -3. -2. -2. -2. -3. -3. -2.\n",
      "  -2. -3. -2. -3. -3. -2. -2. -2. -2. -3. -2. -3.]\n",
      " [-3. -3. -3. -3. -3. 74. -2. -2. -3. -2. -2. -3. -2. -2. -2. -3. -3. -2.\n",
      "  -2. -3. -2. -3. -3. -2. -2. -2. -2. -3. -2. -3.]\n",
      " [-2. -2. -2. -2. -2. -2. 74. -3. -2. -3. -3. -2. -3. -3. -3. -2. -2. -3.\n",
      "  -3. -2. -3. -2. -2. -3. -3. -3. -3. -2. -3. -2.]\n",
      " [-2. -2. -2. -2. -2. -2. -3. 74. -2. -3. -3. -2. -3. -3. -3. -2. -2. -3.\n",
      "  -3. -2. -3. -2. -2. -3. -3. -3. -3. -2. -3. -2.]\n",
      " [-3. -3. -3. -3. -3. -3. -2. -2. 74. -2. -2. -3. -2. -2. -2. -3. -3. -2.\n",
      "  -2. -3. -2. -3. -3. -2. -2. -2. -2. -3. -2. -3.]\n",
      " [-2. -2. -2. -2. -2. -2. -3. -3. -2. 74. -3. -2. -3. -3. -3. -2. -2. -3.\n",
      "  -3. -2. -3. -2. -2. -3. -3. -3. -3. -2. -3. -2.]\n",
      " [-2. -2. -2. -2. -2. -2. -3. -3. -2. -3. 74. -2. -3. -3. -3. -2. -2. -3.\n",
      "  -3. -2. -3. -2. -2. -3. -3. -3. -3. -2. -3. -2.]\n",
      " [-3. -3. -3. -3. -3. -3. -2. -2. -3. -2. -2. 74. -2. -2. -2. -3. -3. -2.\n",
      "  -2. -3. -2. -3. -3. -2. -2. -2. -2. -3. -2. -3.]\n",
      " [-2. -2. -2. -2. -2. -2. -3. -3. -2. -3. -3. -2. 74. -3. -3. -2. -2. -3.\n",
      "  -3. -2. -3. -2. -2. -3. -3. -3. -3. -2. -3. -2.]\n",
      " [-2. -2. -2. -2. -2. -2. -3. -3. -2. -3. -3. -2. -3. 74. -3. -2. -2. -3.\n",
      "  -3. -2. -3. -2. -2. -3. -3. -3. -3. -2. -3. -2.]\n",
      " [-2. -2. -2. -2. -2. -2. -3. -3. -2. -3. -3. -2. -3. -3. 74. -2. -2. -3.\n",
      "  -3. -2. -3. -2. -2. -3. -3. -3. -3. -2. -3. -2.]\n",
      " [-3. -3. -3. -3. -3. -3. -2. -2. -3. -2. -2. -3. -2. -2. -2. 74. -3. -2.\n",
      "  -2. -3. -2. -3. -3. -2. -2. -2. -2. -3. -2. -3.]\n",
      " [-3. -3. -3. -3. -3. -3. -2. -2. -3. -2. -2. -3. -2. -2. -2. -3. 74. -2.\n",
      "  -2. -3. -2. -3. -3. -2. -2. -2. -2. -3. -2. -3.]\n",
      " [-2. -2. -2. -2. -2. -2. -3. -3. -2. -3. -3. -2. -3. -3. -3. -2. -2. 74.\n",
      "  -3. -2. -3. -2. -2. -3. -3. -3. -3. -2. -3. -2.]\n",
      " [-2. -2. -2. -2. -2. -2. -3. -3. -2. -3. -3. -2. -3. -3. -3. -2. -2. -3.\n",
      "  74. -2. -3. -2. -2. -3. -3. -3. -3. -2. -3. -2.]\n",
      " [-3. -3. -3. -3. -3. -3. -2. -2. -3. -2. -2. -3. -2. -2. -2. -3. -3. -2.\n",
      "  -2. 74. -2. -3. -3. -2. -2. -2. -2. -3. -2. -3.]\n",
      " [-2. -2. -2. -2. -2. -2. -3. -3. -2. -3. -3. -2. -3. -3. -3. -2. -2. -3.\n",
      "  -3. -2. 74. -2. -2. -3. -3. -3. -3. -2. -3. -2.]\n",
      " [-3. -3. -3. -3. -3. -3. -2. -2. -3. -2. -2. -3. -2. -2. -2. -3. -3. -2.\n",
      "  -2. -3. -2. 74. -3. -2. -2. -2. -2. -3. -2. -3.]\n",
      " [-3. -3. -3. -3. -3. -3. -2. -2. -3. -2. -2. -3. -2. -2. -2. -3. -3. -2.\n",
      "  -2. -3. -2. -3. 74. -2. -2. -2. -2. -3. -2. -3.]\n",
      " [-2. -2. -2. -2. -2. -2. -3. -3. -2. -3. -3. -2. -3. -3. -3. -2. -2. -3.\n",
      "  -3. -2. -3. -2. -2. 74. -3. -3. -3. -2. -3. -2.]\n",
      " [-2. -2. -2. -2. -2. -2. -3. -3. -2. -3. -3. -2. -3. -3. -3. -2. -2. -3.\n",
      "  -3. -2. -3. -2. -2. -3. 74. -3. -3. -2. -3. -2.]\n",
      " [-2. -2. -2. -2. -2. -2. -3. -3. -2. -3. -3. -2. -3. -3. -3. -2. -2. -3.\n",
      "  -3. -2. -3. -2. -2. -3. -3. 74. -3. -2. -3. -2.]\n",
      " [-2. -2. -2. -2. -2. -2. -3. -3. -2. -3. -3. -2. -3. -3. -3. -2. -2. -3.\n",
      "  -3. -2. -3. -2. -2. -3. -3. -3. 74. -2. -3. -2.]\n",
      " [-3. -3. -3. -3. -3. -3. -2. -2. -3. -2. -2. -3. -2. -2. -2. -3. -3. -2.\n",
      "  -2. -3. -2. -3. -3. -2. -2. -2. -2. 74. -2. -3.]\n",
      " [-2. -2. -2. -2. -2. -2. -3. -3. -2. -3. -3. -2. -3. -3. -3. -2. -2. -3.\n",
      "  -3. -2. -3. -2. -2. -3. -3. -3. -3. -2. 74. -2.]\n",
      " [-3. -3. -3. -3. -3. -3. -2. -2. -3. -2. -2. -3. -2. -2. -2. -3. -3. -2.\n",
      "  -2. -3. -2. -3. -3. -2. -2. -2. -2. -3. -2. 74.]]\n",
      "[  6.   1.  13.  -2.  -4. -13.   7.  12. -15.   4. -18.  -1.  12.   7.\n",
      "   3.   5.  11. -12.  -4.   6. -13. -14.  14.  16.   7.  -4.  -2.  -8.\n",
      "  17.  -1.]\n"
     ]
    }
   ],
   "source": [
    "import numpy as np\n",
    "\n",
    "colleyMatrix = 2*np.diag(np.ones(numTeams))\n",
    "b = np.ones(numTeams)\n",
    "\n",
    "for i in range(numGames):\n",
    "    team1ID = games.loc[i, 2] - 1 # subtracting 1 since python indexes at 0\n",
    "    team1Score = games.loc[i, 4]\n",
    "    team2ID = games.loc[i, 5] - 1 # subtracting 1 since python indexes at 0\n",
    "    team2Score = games.loc[i, 7]\n",
    "    \n",
    "    colleyMatrix[team1ID, team2ID] -= 1\n",
    "    colleyMatrix[team2ID, team1ID] -= 1\n",
    "\n",
    "    colleyMatrix[team1ID, team1ID] += 1\n",
    "    colleyMatrix[team2ID, team2ID] += 1\n",
    "    \n",
    "    if team1Score > team2Score:\n",
    "        b[team1ID] += 1/2\n",
    "        b[team2ID] -= 1/2\n",
    "    elif team1Score < team2Score:\n",
    "        b[team1ID] -= 1/2\n",
    "        b[team2ID] += 1/2\n",
    "    else:  # it is a tie and make 1/2 a win and 1/2 a loss for both teams\n",
    "        b[team1ID] += 0; # this equates to adding nothing\n",
    "        b[team2ID] += 0; # clearly this code could be deleted\n",
    "        \n",
    "print(colleyMatrix)\n",
    "print(b)"
   ]
  },
  {
   "cell_type": "markdown",
   "metadata": {},
   "source": [
    "### Calculate linear system"
   ]
  },
  {
   "cell_type": "code",
   "execution_count": 26,
   "metadata": {},
   "outputs": [],
   "source": [
    "#A = np.array([[5,-1,-1,-1],[-1,4,-1,0],[-1,-1,5,-1],[-1,0,-1,4,]])\n",
    "#B = np.array([3/2, 0, 3/2, 1])\n",
    "r = np.linalg.solve(colleyMatrix,b)\n",
    "iSort = np.argsort(-r)"
   ]
  },
  {
   "cell_type": "code",
   "execution_count": 21,
   "metadata": {},
   "outputs": [
    {
     "name": "stdout",
     "output_type": "stream",
     "text": [
      "Page         PageRank  \n",
      "======================\n",
      "Lakers       0.58333\n",
      "Warriors     0.58333\n",
      "Pistons      0.54167\n",
      "Sixers       0.29167\n"
     ]
    }
   ],
   "source": [
    "#teamNames2 = np.array(['Lakers', 'Sixers', 'Warriors', 'Pistons'])\n",
    "#print('Page         PageRank  \\n======================')\n",
    "#for i in range(4):\n",
    "    #print(f'{teamNames2[iSort[i]]:10}   {r[iSort[i]]:7.5f}')"
   ]
  },
  {
   "cell_type": "markdown",
   "metadata": {},
   "source": [
    "### Print the ranking of the teams"
   ]
  },
  {
   "cell_type": "code",
   "execution_count": 27,
   "metadata": {},
   "outputs": [
    {
     "name": "stdout",
     "output_type": "stream",
     "text": [
      "\n",
      "\n",
      "************** COLLEY Rating Method **************\n",
      "\n",
      "===========================\n",
      "Rank   Rating    Team   \n",
      "===========================\n",
      "   1   0.71135   Utah\n",
      "   2   0.69837   Phoenix\n",
      "   3   0.66527   Philadelphia\n",
      "   4   0.65228   Brooklyn\n",
      "   5   0.64642   Denver\n",
      "   6   0.64642   LA_Clippers\n",
      "   7   0.62631   Milwaukee\n",
      "   8   0.58148   Portland\n",
      "   9   0.58148   Dallas\n",
      "  10   0.58148   LA_Lakers\n",
      "\n"
     ]
    }
   ],
   "source": [
    "print('\\n\\n************** COLLEY Rating Method **************\\n')\n",
    "print('===========================')\n",
    "print('Rank   Rating    Team   ')\n",
    "print('===========================')\n",
    "if k==0:\n",
    "    numberTeamToPrint = numTeams\n",
    "else:\n",
    "    numberTeamToPrint = k\n",
    "\n",
    "for i in range(numberTeamToPrint):\n",
    "    print(f'{i+1:4d}   {r[iSort[i]]:.5f}  {teamNames.loc[iSort[i],1]}')\n",
    "\n",
    "print('')   # extra carriage return"
   ]
  },
  {
   "cell_type": "markdown",
   "metadata": {},
   "source": [
    "### Calculate predictability of method"
   ]
  },
  {
   "cell_type": "code",
   "execution_count": 28,
   "metadata": {},
   "outputs": [
    {
     "name": "stdout",
     "output_type": "stream",
     "text": [
      "Predictability: 65.74%\n"
     ]
    }
   ],
   "source": [
    "numberCorrectPredictions = 0\n",
    "for i in range(numGames):\n",
    "    team1ID = games.loc[i, 2] - 1 \n",
    "    team1Score = games.loc[i, 4]\n",
    "    team2ID = games.loc[i, 5] - 1 \n",
    "    team2Score = games.loc[i, 7]\n",
    "    \n",
    "    if team1Score > team2Score and r[team1ID] > r[team2ID]:\n",
    "        numberCorrectPredictions += 1\n",
    "    elif team2Score > team1Score and r[team2ID] > r[team1ID]:\n",
    "        numberCorrectPredictions += 1\n",
    "    elif team1Score == team2Score and r[team1ID] == r[team2ID]:\n",
    "        numberCorrectPredictions += 1\n",
    "\n",
    "print(f'Predictability: {numberCorrectPredictions/numGames*100:.2f}%') \n"
   ]
  },
  {
   "cell_type": "code",
   "execution_count": null,
   "metadata": {},
   "outputs": [],
   "source": []
  }
 ],
 "metadata": {
  "kernelspec": {
   "display_name": "Python 3",
   "language": "python",
   "name": "python3"
  },
  "language_info": {
   "codemirror_mode": {
    "name": "ipython",
    "version": 3
   },
   "file_extension": ".py",
   "mimetype": "text/x-python",
   "name": "python",
   "nbconvert_exporter": "python",
   "pygments_lexer": "ipython3",
   "version": "3.8.3"
  }
 },
 "nbformat": 4,
 "nbformat_minor": 4
}
