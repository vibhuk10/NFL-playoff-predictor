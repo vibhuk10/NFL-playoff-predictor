{
 "cells": [
  {
   "cell_type": "markdown",
   "metadata": {},
   "source": [
    "# Simulate Google\n",
    "\n",
    "This notebook uses Monte Carlo simulation to find the PageRank of a network.  \n",
    "\n",
    "The user must supply the adjacency matrix. \n",
    "\n",
    "Created by Tim Chartier. "
   ]
  },
  {
   "cell_type": "code",
   "execution_count": 1,
   "metadata": {},
   "outputs": [],
   "source": [
    "import numpy as np\n",
    "import random"
   ]
  },
  {
   "cell_type": "code",
   "execution_count": 3,
   "metadata": {},
   "outputs": [],
   "source": [
    "# Create the adjacency matrix\n",
    "A = np.array([[0,0,0,1,0,0],[1,0,0,0,0,0],[1,0,0,0,0,0],[0,1,1,0,1,0],[0,0,1,0,0,1],[0,0,0,0,0,0]])"
   ]
  },
  {
   "cell_type": "code",
   "execution_count": 4,
   "metadata": {},
   "outputs": [],
   "source": [
    "# Grab the size of the network\n",
    "sizeOfNetwork = len(A)\n",
    "# Remove loops (links to one's own webpage)\n",
    "A = A - np.diag(np.diag(A))"
   ]
  },
  {
   "cell_type": "code",
   "execution_count": 8,
   "metadata": {},
   "outputs": [
    {
     "name": "stdout",
     "output_type": "stream",
     "text": [
      "[[0.2683]\n",
      " [0.1085]\n",
      " [0.1642]\n",
      " [0.2663]\n",
      " [0.1107]\n",
      " [0.082 ]]\n"
     ]
    }
   ],
   "source": [
    "numberOfLoops = 10000\n",
    "currentPage = 3 # What page will you start at?  This could be random.\n",
    "numberOfPageVisits = np.zeros((sizeOfNetwork,1))\n",
    "rowSum = np.sum(A,1) # Compute the row sums for use within loop\n",
    "alpha = 0.85 # teleportation parameter\n",
    "\n",
    "# Randomly surf the web\n",
    "for i in range (numberOfLoops):\n",
    "    if (rowSum[currentPage] == 0): # we have a dangling node\n",
    "       currentPage = random.randint(0,sizeOfNetwork-1) # randomly jump anywhere\n",
    "    else:\n",
    "       isTeleporting = random.random()\n",
    "       if (isTeleporting < (1-alpha)):  # do we teleport? \n",
    "          # teleport anywhere with equal probability \n",
    "          currentPage = random.randint(0,sizeOfNetwork-1)\n",
    "       else:\n",
    "          # follow a link on the page where all are equally likely \n",
    "          numberOfLinks = rowSum[currentPage]\n",
    "          outlinks = A[currentPage,:].nonzero()[0]  # This could be stored rather than found each time. \n",
    "          equallySpacedInterval = np.linspace(0,1,len(outlinks)+1) # This and the next line pick a random link\n",
    "          indexOfCurrentPage = np.amax((equallySpacedInterval <= random.random()).nonzero()[0])\n",
    "          currentPage = outlinks[indexOfCurrentPage]\n",
    "    numberOfPageVisits[currentPage] += 1\n",
    "\n",
    "print(numberOfPageVisits/numberOfLoops)"
   ]
  },
  {
   "cell_type": "code",
   "execution_count": null,
   "metadata": {},
   "outputs": [],
   "source": []
  }
 ],
 "metadata": {
  "kernelspec": {
   "display_name": "Python 3",
   "language": "python",
   "name": "python3"
  },
  "language_info": {
   "codemirror_mode": {
    "name": "ipython",
    "version": 3
   },
   "file_extension": ".py",
   "mimetype": "text/x-python",
   "name": "python",
   "nbconvert_exporter": "python",
   "pygments_lexer": "ipython3",
   "version": "3.8.3"
  }
 },
 "nbformat": 4,
 "nbformat_minor": 4
}
