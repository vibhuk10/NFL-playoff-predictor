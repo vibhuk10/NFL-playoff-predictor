{
 "cells": [
  {
   "cell_type": "code",
   "execution_count": 4,
   "metadata": {},
   "outputs": [],
   "source": [
    "import numpy as np"
   ]
  },
  {
   "cell_type": "code",
   "execution_count": 5,
   "metadata": {},
   "outputs": [
    {
     "data": {
      "image/png": "[encoded data removed]",
      "text/plain": [
       "<Figure size 432x288 with 1 Axes>"
      ]
     },
     "metadata": {
      "needs_background": "light"
     },
     "output_type": "display_data"
    }
   ],
   "source": [
    "# first games played between NFC west and NFC east in 2020\n",
    "A = np.array([[0,1,0,1,1,0,1,1],[0,0,1,0,0,1,0,0],[1,0,0,0,0,0,0,0],[0,0,1,0,0,0,0,0],[0,1,1,1,0,0,1,1],[1,0,1,1,1,0,0,1],[0,1,1,1,0,1,0,0],[0,1,1,1,0,0,1,0]])\n",
    "# Order: 49ers, Seahwaks, Rams, Cardinals, Cowboys, Giants, WFT, Eagles\n",
    "\n",
    "# Spy plot the matrix\n",
    "import matplotlib.pylab as plt\n",
    "message = plt.spy(A)"
   ]
  },
  {
   "cell_type": "code",
   "execution_count": 6,
   "metadata": {},
   "outputs": [],
   "source": [
    "# Grab the size of the network\n",
    "sizeOfNetwork = len(A)\n",
    "# Remove loops (links to one's own webpage)\n",
    "A = A - np.diag(np.diag(A))"
   ]
  },
  {
   "cell_type": "code",
   "execution_count": 7,
   "metadata": {},
   "outputs": [
    {
     "name": "stdout",
     "output_type": "stream",
     "text": [
      "G = \n",
      " [[0.01875 0.18875 0.01875 0.18875 0.18875 0.01875 0.18875 0.18875]\n",
      " [0.01875 0.01875 0.44375 0.01875 0.01875 0.44375 0.01875 0.01875]\n",
      " [0.86875 0.01875 0.01875 0.01875 0.01875 0.01875 0.01875 0.01875]\n",
      " [0.01875 0.01875 0.86875 0.01875 0.01875 0.01875 0.01875 0.01875]\n",
      " [0.01875 0.18875 0.18875 0.18875 0.01875 0.01875 0.18875 0.18875]\n",
      " [0.18875 0.01875 0.18875 0.18875 0.18875 0.01875 0.01875 0.18875]\n",
      " [0.01875 0.23125 0.23125 0.23125 0.01875 0.23125 0.01875 0.01875]\n",
      " [0.01875 0.23125 0.23125 0.23125 0.01875 0.01875 0.23125 0.01875]]\n"
     ]
    }
   ],
   "source": [
    "alpha = 0.85 # teleportation parameter\n",
    "rowSum = np.sum(A,1) # Compute the row sums\n",
    "G = np.zeros((sizeOfNetwork,sizeOfNetwork)) # initalize the Google matrix \n",
    "for i in range(sizeOfNetwork):\n",
    "    if (rowSum[i] == 0): # dangling node\n",
    "       G[i,:] = np.ones((1,sizeOfNetwork))/sizeOfNetwork\n",
    "    else:\n",
    "       G[i,:] = alpha*A[i,:]/rowSum[i] + (1-alpha)/sizeOfNetwork\n",
    "print('G = \\n',G)"
   ]
  },
  {
   "cell_type": "code",
   "execution_count": 8,
   "metadata": {},
   "outputs": [],
   "source": [
    "numberOfLoops = 100\n",
    "v0 = np.zeros(sizeOfNetwork) # initial state\n",
    "v0[np.random.randint(sizeOfNetwork)] = 1 # create a random webpage on which to start\n",
    "v = v0\n",
    "for i in range(numberOfLoops):\n",
    "    v = v@G"
   ]
  },
  {
   "cell_type": "code",
   "execution_count": 18,
   "metadata": {},
   "outputs": [
    {
     "name": "stdout",
     "output_type": "stream",
     "text": [
      "Page        PageRank  \n",
      "====================\n",
      "Rams         0.22696\n",
      "49ers        0.22560\n",
      "Cardinals    0.11922\n",
      "Seahwaks     0.10529\n",
      "WFT          0.08684\n",
      "Eagles       0.08311\n",
      "Giants       0.08195\n",
      "Cowboys      0.07103\n"
     ]
    }
   ],
   "source": [
    "teamNames = np.array(['49ers', 'Seahwaks', 'Rams', 'Cardinals', 'Cowboys', 'Giants', 'WFT', 'Eagles'])\n",
    "\n",
    "iSort = np.argsort(-v)\n",
    "# the -v gives us a reverse sort and np.argsort gives us the indices of the sort\n",
    "print('Page        PageRank  \\n====================')\n",
    "for i in range(sizeOfNetwork):\n",
    "    print(f'{teamNames[iSort[i]]:10}   {v[iSort[i]]:7.5f}')\n",
    "    \n"
   ]
  },
  {
   "cell_type": "code",
   "execution_count": null,
   "metadata": {},
   "outputs": [],
   "source": []
  }
 ],
 "metadata": {
  "kernelspec": {
   "display_name": "Python 3",
   "language": "python",
   "name": "python3"
  },
  "language_info": {
   "codemirror_mode": {
    "name": "ipython",
    "version": 3
   },
   "file_extension": ".py",
   "mimetype": "text/x-python",
   "name": "python",
   "nbconvert_exporter": "python",
   "pygments_lexer": "ipython3",
   "version": "3.8.3"
  }
 },
 "nbformat": 4,
 "nbformat_minor": 4
}
