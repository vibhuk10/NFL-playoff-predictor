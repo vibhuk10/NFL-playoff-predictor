{
 "cells": [
  {
   "cell_type": "markdown",
   "metadata": {},
   "source": [
    "# Wikipedia web network\n",
    "This notebook creates an adjacency matrix from a root Wikipedia page. It then find the PageRank of the produced web network. \n",
    "\n",
    "Created by Tim Chartier"
   ]
  },
  {
   "cell_type": "markdown",
   "metadata": {},
   "source": [
    "### Create the network"
   ]
  },
  {
   "cell_type": "code",
   "execution_count": 20,
   "metadata": {},
   "outputs": [],
   "source": [
    "import wikipediaNetwork as wiki\n",
    "\n",
    "sizeOfNetwork = 20 # How many Wikipedia web pages do you want in the network? \n",
    "A, wikiPages = wiki.wikipediaNetwork('https://en.wikipedia.org/wiki/Hawaii',sizeOfNetwork)"
   ]
  },
  {
   "cell_type": "markdown",
   "metadata": {},
   "source": [
    "### Plot the network"
   ]
  },
  {
   "cell_type": "code",
   "execution_count": 21,
   "metadata": {},
   "outputs": [
    {
     "name": "stdout",
     "output_type": "stream",
     "text": [
      "[[1. 0. 0. 0. 0. 0. 0. 0. 0. 0. 0. 0. 0. 0. 0. 0. 0. 0. 0. 0.]\n",
      " [0. 1. 0. 0. 0. 0. 0. 0. 0. 0. 0. 0. 0. 0. 0. 0. 0. 0. 0. 0.]\n",
      " [0. 0. 1. 0. 0. 0. 0. 0. 0. 0. 0. 0. 0. 0. 0. 0. 0. 0. 0. 0.]\n",
      " [0. 0. 0. 1. 0. 0. 0. 0. 0. 0. 0. 0. 0. 0. 0. 0. 0. 0. 0. 0.]\n",
      " [0. 0. 0. 0. 1. 0. 1. 1. 0. 0. 1. 0. 0. 0. 1. 0. 0. 0. 1. 0.]\n",
      " [0. 0. 0. 0. 0. 1. 0. 0. 0. 0. 0. 0. 0. 0. 0. 0. 0. 0. 0. 0.]\n",
      " [0. 0. 0. 0. 1. 0. 1. 1. 0. 0. 1. 0. 0. 0. 1. 0. 0. 0. 1. 0.]\n",
      " [0. 0. 0. 0. 1. 0. 1. 1. 0. 0. 1. 0. 0. 0. 1. 0. 0. 0. 1. 0.]\n",
      " [0. 0. 0. 0. 0. 0. 1. 0. 0. 0. 0. 0. 0. 0. 0. 0. 0. 0. 0. 0.]\n",
      " [0. 0. 0. 0. 0. 0. 0. 0. 0. 0. 0. 0. 0. 0. 0. 0. 1. 0. 0. 0.]\n",
      " [0. 0. 0. 0. 0. 0. 0. 0. 0. 0. 0. 0. 0. 0. 0. 0. 0. 0. 0. 0.]\n",
      " [0. 0. 0. 0. 0. 0. 0. 0. 0. 0. 0. 1. 0. 0. 0. 0. 0. 0. 0. 0.]\n",
      " [0. 0. 0. 0. 0. 0. 0. 0. 0. 0. 0. 0. 1. 0. 0. 0. 0. 0. 0. 0.]\n",
      " [0. 0. 0. 0. 0. 0. 0. 0. 0. 0. 0. 0. 0. 1. 0. 0. 0. 0. 0. 0.]\n",
      " [0. 0. 0. 0. 0. 0. 0. 0. 0. 0. 0. 0. 0. 0. 1. 0. 0. 0. 0. 0.]\n",
      " [0. 0. 0. 0. 0. 0. 0. 0. 0. 0. 0. 0. 0. 0. 0. 1. 0. 0. 0. 0.]\n",
      " [0. 0. 0. 0. 0. 0. 0. 0. 0. 0. 0. 0. 0. 0. 0. 0. 1. 0. 0. 0.]\n",
      " [0. 0. 0. 0. 0. 0. 0. 0. 0. 0. 0. 0. 0. 0. 0. 0. 0. 1. 0. 0.]\n",
      " [0. 0. 0. 0. 1. 0. 1. 1. 0. 0. 1. 0. 0. 0. 1. 0. 0. 0. 1. 0.]\n",
      " [0. 0. 0. 0. 0. 0. 0. 0. 0. 0. 0. 0. 0. 0. 0. 0. 0. 0. 0. 1.]]\n"
     ]
    },
    {
     "data": {
      "image/png": "[encoded data removed]",
      "text/plain": [
       "<Figure size 432x288 with 1 Axes>"
      ]
     },
     "metadata": {
      "needs_background": "light"
     },
     "output_type": "display_data"
    }
   ],
   "source": [
    "import matplotlib.pylab as plt\n",
    "message = plt.spy(A)\n",
    "print(A)"
   ]
  },
  {
   "cell_type": "markdown",
   "metadata": {},
   "source": [
    "### Compute PageRank on network"
   ]
  },
  {
   "cell_type": "code",
   "execution_count": 22,
   "metadata": {},
   "outputs": [],
   "source": [
    "# This function finds the PageRank of a networ passed as an adjacency matrix. \n",
    "# Created by Tim Chartier. \n",
    "\n",
    "def pagerank(A,TOL = 10^-3):\n",
    "\n",
    "    import numpy as np\n",
    "    \n",
    "    # Remove loops (links to one's own webpage)\n",
    "    A = A - np.diag(np.diag(A))\n",
    "    \n",
    "    # Construct Google matrix \n",
    "    alpha = 0.85\n",
    "    rowSum = np.sum(A,1) # Compute the row sums\n",
    "    sizeOfNetwork = len(A)\n",
    "    G = np.zeros((sizeOfNetwork,sizeOfNetwork))\n",
    "    for i in range(sizeOfNetwork):\n",
    "        if (rowSum[i] == 0): # dangling node\n",
    "            G[i,:] = np.ones((1,sizeOfNetwork))/sizeOfNetwork\n",
    "        else:\n",
    "            G[i,:] = alpha*A[i,:]/rowSum[i] + (1-alpha)/sizeOfNetwork\n",
    "\n",
    "    # Compute PageRank vector\n",
    "    numberOfLoops = 100\n",
    "    v0 = np.ones(sizeOfNetwork)/sizeOfNetwork  # initial state\n",
    "    vNew = v0\n",
    "    for i in range(numberOfLoops):\n",
    "        vOld = vNew\n",
    "        vNew = vOld@G     \n",
    "        if (np.amax(vNew - vOld) < TOL):\n",
    "            break\n",
    "\n",
    "    return vNew"
   ]
  },
  {
   "cell_type": "code",
   "execution_count": 23,
   "metadata": {},
   "outputs": [],
   "source": [
    "import numpy as np\n",
    "pageRankVector = pagerank(A)"
   ]
  },
  {
   "cell_type": "markdown",
   "metadata": {},
   "source": [
    "### Print the results"
   ]
  },
  {
   "cell_type": "code",
   "execution_count": 24,
   "metadata": {},
   "outputs": [
    {
     "name": "stdout",
     "output_type": "stream",
     "text": [
      "Rank  PageRank   Webpage\n",
      "==============================================\n",
      "  0   0.10027    /wiki/Federal_government_of_the_United_States\n",
      "  1   0.08909    /wiki/National_Reconnaissance_Office\n",
      "  2   0.08909    /wiki/List_of_members_of_the_United_States_Senate\n",
      "  3   0.07614    /wiki/American_frontier\n",
      "  4   0.07614    /wiki/List_of_World_Heritage_Sites_in_the_United_States\n",
      "  5   0.07614    /wiki/Founding_Fathers_of_the_United_States\n",
      "  6   0.06143    /wiki/History_of_Hawaii\n",
      "  7   0.03321    /wiki/Kawaii\n",
      "  8   0.03321    /wiki/Hawaii%E2%80%93Aleutian_Time_Zone\n",
      "  9   0.03321    /wiki/Mountain\n"
     ]
    }
   ],
   "source": [
    "numberOfPagesToPrint = 10\n",
    "\n",
    "numberOfPagesToPrint = np.amin([len(pageRankVector),numberOfPagesToPrint])\n",
    "\n",
    "iSort = np.argsort(-pageRankVector)   # the - gives us a reverse sort and np.argsort gives us the indices of the sort\n",
    "print('Rank  PageRank   Webpage')\n",
    "print('==============================================')\n",
    "for i in range(numberOfPagesToPrint):\n",
    "    print(f'{i:3d}   {pageRankVector[iSort[i]]:7.5f}    {wikiPages[iSort[i]]}')"
   ]
  },
  {
   "cell_type": "code",
   "execution_count": null,
   "metadata": {},
   "outputs": [],
   "source": []
  }
 ],
 "metadata": {
  "kernelspec": {
   "display_name": "Python 3",
   "language": "python",
   "name": "python3"
  },
  "language_info": {
   "codemirror_mode": {
    "name": "ipython",
    "version": 3
   },
   "file_extension": ".py",
   "mimetype": "text/x-python",
   "name": "python",
   "nbconvert_exporter": "python",
   "pygments_lexer": "ipython3",
   "version": "3.8.3"
  }
 },
 "nbformat": 4,
 "nbformat_minor": 4
}
