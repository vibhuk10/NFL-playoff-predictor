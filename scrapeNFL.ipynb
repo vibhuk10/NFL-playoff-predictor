{
 "cells": [
  {
   "cell_type": "markdown",
   "metadata": {},
   "source": [
    "# Scrape across a web page\n",
    "\n",
    "How do you scrape data from across a webpage and not just in a table?  This is an introduction. \n",
    "\n",
    "### Read in the webpage"
   ]
  },
  {
   "cell_type": "code",
   "execution_count": 1,
   "metadata": {},
   "outputs": [],
   "source": [
    "from bs4 import BeautifulSoup\n",
    "from urllib.request import urlopen\n",
    "import pandas as pd\n",
    "\n",
    "# What web page do we want? \n",
    "pageAddress = \"https://www.pro-football-reference.com/players/injuries.htm\"\n",
    "\n",
    "# Open and read in the web page \n",
    "soup = BeautifulSoup(urlopen(pageAddress), \"html.parser\")"
   ]
  },
  {
   "cell_type": "markdown",
   "metadata": {},
   "source": [
    "### Print the HTML (source HTML for the webpage)"
   ]
  },
  {
   "cell_type": "code",
   "execution_count": 2,
   "metadata": {},
   "outputs": [],
   "source": [
    "# Print all the HTML, if you want to reference it\n",
    "#print(soup.prettify())"
   ]
  },
  {
   "cell_type": "markdown",
   "metadata": {},
   "source": [
    "### Use Pandas to read a table of data."
   ]
  },
  {
   "cell_type": "code",
   "execution_count": 6,
   "metadata": {},
   "outputs": [
    {
     "name": "stdout",
     "output_type": "stream",
     "text": [
      "               Player   Tm  Pos         Type         Class  \\\n",
      "0          Jeff Badet  ATL   WR          Leg  questionable   \n",
      "1       Deadrin Senat  ATL   DT   Upper Body           I-R   \n",
      "2           Matt Gono  ATL    T         Neck           I-R   \n",
      "3       Willie Wright  ATL   OL      Illness           I-R   \n",
      "4         John Atkins  ATL   DT      Illness           I-R   \n",
      "..                ...  ...  ...          ...           ...   \n",
      "157   Cornelius Lucas  WAS   OT      Illness           I-R   \n",
      "158      Greg Stroman  WAS   CB  Undisclosed  questionable   \n",
      "159  Deshazor Everett  WAS  SAF  Undisclosed           I-R   \n",
      "160     Curtis Samuel  WAS   WR        Groin  questionable   \n",
      "161    Landon Collins  WAS  SAF     Achilles  questionable   \n",
      "\n",
      "                                               Details  \n",
      "0    Badet is nursing a lower-leg injury, and it ha...  \n",
      "1    Senat as been added to the active PUP list wit...  \n",
      "2    Gono has been ticketed for the PUP list while ...  \n",
      "3    Wright has landed on the Injured Reserve/COVID...  \n",
      "4    Atkins has been posted to the Injured Reserve/...  \n",
      "..                                                 ...  \n",
      "157  Lucas has been placed on the Injured Reserve/C...  \n",
      "158  Stroman has been shuttled to the PUP list, and...  \n",
      "159  Everett has hit the Non-Football Illness list ...  \n",
      "160  Samuel has been added to the PUP list with a g...  \n",
      "161  Collins is battling an Achilles injury, and it...  \n",
      "\n",
      "[162 rows x 6 columns]\n"
     ]
    }
   ],
   "source": [
    "# Read the table of data into a Dataframe \n",
    "table = soup.find_all('table')[0] \n",
    "df = pd.read_html(str(table))\n",
    "print(df[0])"
   ]
  },
  {
   "cell_type": "code",
   "execution_count": 15,
   "metadata": {},
   "outputs": [],
   "source": [
    "df.to_csv('2021_pfr_injuries.csv', index=False)"
   ]
  },
  {
   "cell_type": "markdown",
   "metadata": {},
   "source": [
    "### Find all the links in the page (which have a tag of <a ...>)"
   ]
  },
  {
   "cell_type": "code",
   "execution_count": 4,
   "metadata": {},
   "outputs": [
    {
     "name": "stdout",
     "output_type": "stream",
     "text": [
      "#main-content\n",
      "https://www.nfl.com\n",
      "https://www.nfl.com/news/\n",
      "https://www.nfl.com/scores/\n",
      "https://www.nfl.com/schedules/\n",
      "https://www.nfl.com/videos/\n",
      "https://www.nfl.com/teams/\n",
      "https://www.nfl.com/players/\n",
      "https://www.nfl.com/stats/player-stats/\n",
      "https://www.nfl.com/standings/\n",
      "https://www.nfl.com/draft/\n",
      "#2ndlevel\n",
      "https://www.nfl.com/photos/\n",
      "https://www.nfl.com/super-bowl/\n",
      "https://www.nfl.com/gamepass?icampaign=gpg-nav-gno-gamepass\n",
      "https://www.nfl.com/free-agency/\n",
      "https://www.nfl.com/ways-to-watch/\n",
      "https://www.foxdeportes.com/nfl/\n",
      "https://www.nfl.com/causes/inspire-change/\n",
      "https://www.nfl.com/network/watch/nfl-network-live\n",
      "https://smart.link/qd5unmrz3lfwv\n",
      "https://www.ticketmaster.com/nfl?wt.mc_id=NFL_LEAGUE_TICKETS_LINK&utm_source=NFL.com&utm_medium=client&utm_campaign=NFL_LEAGUE&utm_content=TICKETS_LINK\n",
      "http://www.nflshop.com/?bm-nflcom-2017-Header-Shop-Tab\n",
      "https://www.nfl.com/account/sign-in\n",
      "https://www.nflshop.com/?_s=bm-nflcom-2017-Header-Shop-Tab-Peak\n",
      "https://www.nfl.com/network/watch/nfl-network-live\n",
      "https://smart.link/qd5unmrz3lfwv\n",
      "https://www.ticketmaster.com/nfl?wt.mc_id=NFL_LEAGUE_TICKETS_LINK&utm_source=NFL.com&utm_medium=client&utm_campaign=NFL_LEAGUE&utm_content=TICKETS_LINK\n",
      "http://www.nflshop.com/?bm-nflcom-2017-Header-Shop-Tab\n",
      "https://www.nfl.com/account/sign-in\n",
      "https://www.nfl.com/stats/player-stats/\n",
      "https://www.nfl.com/stats/team-stats/\n",
      "http://www.nfl.com/stats/ngs/leaders\n",
      "https://www.nfl.com/players/\n",
      "/stats/player-stats/category/passing/2019/REG/all/passingyards/desc\n",
      "/stats/player-stats/category/rushing/2019/REG/all/rushingyards/desc\n",
      "/stats/player-stats/category/receiving/2019/REG/all/receivingreceptions/desc\n",
      "/stats/player-stats/category/fumbles/2019/REG/all/defensiveforcedfumble/desc\n",
      "/stats/player-stats/category/tackles/2019/REG/all/defensivecombinetackles/desc\n",
      "/stats/player-stats/category/interceptions/2019/REG/all/defensiveinterceptions/desc\n",
      "/stats/player-stats/category/field-goals/2019/REG/all/kickingfgmade/desc\n",
      "/stats/player-stats/category/kickoffs/2019/REG/all/kickofftotal/desc\n",
      "/stats/player-stats/category/kickoff-returns/2019/REG/all/kickreturnsaverageyards/desc\n",
      "/stats/player-stats/category/punts/2019/REG/all/puntingaverageyards/desc\n",
      "/stats/player-stats/category/punt-returns/2019/REG/all/puntreturnsaverageyards/desc\n",
      "/stats/player-stats/category/passing/2019/REG/all/passingyards/asc\n",
      "/stats/player-stats/category/passing/2019/REG/all/passingaverageyards/DESC\n",
      "/stats/player-stats/category/passing/2019/REG/all/passingattempts/DESC\n",
      "/stats/player-stats/category/passing/2019/REG/all/passingcompletions/DESC\n",
      "/stats/player-stats/category/passing/2019/REG/all/passingcompletionpercentage/DESC\n",
      "/stats/player-stats/category/passing/2019/REG/all/passingtouchdowns/DESC\n",
      "/stats/player-stats/category/passing/2019/REG/all/passinginterceptions/DESC\n",
      "/stats/player-stats/category/passing/2019/REG/all/passingpasserrating/DESC\n",
      "/stats/player-stats/category/passing/2019/REG/all/passingfirstdowns/DESC\n",
      "/stats/player-stats/category/passing/2019/REG/all/passingfirstdownpercentage/DESC\n",
      "/stats/player-stats/category/passing/2019/REG/all/passing20plusyardseach/DESC\n",
      "/stats/player-stats/category/passing/2019/REG/all/passing40plusyardseach/DESC\n",
      "/stats/player-stats/category/passing/2019/REG/all/passinglong/DESC\n",
      "/stats/player-stats/category/passing/2019/REG/all/passingsacked/DESC\n",
      "/stats/player-stats/category/passing/2019/REG/all/passingsackedyardslost/DESC\n",
      "/players/jameis-winston/\n",
      "/players/dak-prescott/\n",
      "/players/jared-goff/\n",
      "/players/philip-rivers/\n",
      "/players/matt-ryan/\n",
      "/players/russell-wilson/\n",
      "/players/tom-brady/\n",
      "/players/derek-carr/\n",
      "/players/carson-wentz/\n",
      "/players/patrick-mahomes/\n",
      "/players/aaron-rodgers/\n",
      "/players/jimmy-garoppolo/\n",
      "/players/deshaun-watson/\n",
      "/players/baker-mayfield/\n",
      "/players/kyler-murray/\n",
      "/players/kirk-cousins/\n",
      "/players/ryan-fitzpatrick/\n",
      "/players/andy-dalton/\n",
      "/players/kyle-allen/\n",
      "/players/gardner-minshew/\n",
      "/players/mitchell-trubisky/\n",
      "/players/lamar-jackson/\n",
      "/players/josh-allen-4/\n",
      "/players/daniel-jones/\n",
      "/players/sam-darnold/\n",
      "/stats/player-stats/category/passing/2019/REG/all/passingYards/DESC?aftercursor=0000001900000000008500100079000840a7a000000000006e00000005000000045f74626c00000010706572736f6e5f7465616d5f737461740000000565736249640000000944415234363631343100000004726f6c6500000003504c5900000008736561736f6e496400000004323031390000000a736561736f6e5479706500000003524547f07fffffe6f07fffffe6389bd3f93412939a78c1e6950d620d060004\n",
      "https://www.baltimoreravens.com/\n",
      "https://www.bengals.com/\n",
      "https://www.clevelandbrowns.com/\n",
      "https://www.steelers.com/\n",
      "https://www.buffalobills.com/\n",
      "https://www.miamidolphins.com/\n",
      "http://www.patriots.com/\n",
      "https://www.newyorkjets.com/\n",
      "https://www.houstontexans.com/\n",
      "https://www.colts.com/\n",
      "https://www.jaguars.com/\n",
      "https://www.titansonline.com/\n",
      "https://www.denverbroncos.com/\n",
      "https://www.chiefs.com/\n",
      "https://www.raiders.com/\n",
      "https://www.chargers.com/\n",
      "https://www.chicagobears.com/\n",
      "https://www.detroitlions.com/\n",
      "https://www.packers.com/\n",
      "https://www.vikings.com/\n",
      "https://www.dallascowboys.com/\n",
      "https://www.giants.com/\n",
      "https://www.philadelphiaeagles.com/\n",
      "https://www.washingtonfootball.com/\n",
      "https://www.atlantafalcons.com/\n",
      "https://www.panthers.com/\n",
      "https://www.neworleanssaints.com/\n",
      "https://www.buccaneers.com/\n",
      "https://www.azcardinals.com/\n",
      "https://www.therams.com/\n",
      "https://www.49ers.com/\n",
      "https://www.seahawks.com/\n",
      "https://digitalcare.nfl.com/hc/en-us\n",
      "https://nflcommunications.com/Pages/Home.aspx\n",
      "https://www.nfl.com/help/privacy\n",
      "https://nflcommunications.com/Pages/Home.aspx\n",
      "https://www.nfl.com/help/faq\n",
      "https://www.nfl.com/careers\n",
      "https://www.nfl.com/help/terms\n",
      "https://www.nfl.com/media-guides\n",
      "https://operations.nfl.com/\n",
      "https://www.nfl.com/legal/accessibility\n",
      "https://static.www.nfl.com/image/upload/league/f60ftapcsbynqgymw72q.pdf\n",
      "https://www.nfl.com/sitemap/\n",
      "http://www.nflrush.com/\n",
      "https://nflauction.nfl.com/iSynApp/showHomePage.action?sid=1100783&isynsharedsession=s0PsHmftz9EEBo-LQG9TRT7TpysRD5ypm-hqSk-h03dEdaSACl02r4aCDzYhNvUm\n",
      "https://www.nfl.com/causes/play60\n",
      "https://playfootball.nfl.com/\n",
      "https://community.nfl.com/\n",
      "https://www.nfl.com/causes/inspire-change/\n",
      "https://www.playsmartplaysafe.com/\n",
      "http://www.nflplayerengagement.com/\n",
      "http://www.nfllegendscommunity.com/\n",
      "http://www.nflalumni.org/\n",
      "http://www.nflplayercare.com/\n",
      "https://www.usafootball.com/\n",
      "https://www.nflshop.com/?_s=bm-nflcom-2017-BottomBanner-shopgeneric\n",
      "https://operations.nfl.com/\n",
      "https://nflonlocation.com/?utm_campaign=OLE&utm_medium=referral&utm_source=nfl&utm_content=footerlink\n",
      "http://www.profootballhof.com/\n",
      "https://www.nfl.info/NFLConsProd/Welcome/index.html\n",
      "http://www.nflextrapoints.com/nfl-extra-points-credit-card/?campaignId=2038&shopperid=&cellNumber=706&referrerid=NFLB070911&referrerid=NFLB070911&publisherid=&advertisementid=\n",
      "https://www.ticketmaster.com/nfl?wt.mc_id=NFL_LEAGUE_FOOTER_LINK&utm_source=NFL.com&utm_medium=client&utm_campaign=NFL_LEAGUE&utm_content=FOOTER_LINK\n",
      "https://itunes.apple.com/app/nfl/id389781154\n",
      "https://play.google.com/store/apps/details?id=com.gotv.nflgamecenter.us.lite\n",
      "/legal/privacy\n",
      "/legal/terms\n"
     ]
    }
   ],
   "source": [
    "# Find all the links in the webpage \n",
    "links = soup.find_all('a')\n",
    "\n",
    "for link in links:\n",
    "    names = link.contents[0]\n",
    "    fullLink = link.get('href')\n",
    "    print(fullLink)"
   ]
  },
  {
   "cell_type": "markdown",
   "metadata": {},
   "source": [
    "### Find specific types (classes) of links"
   ]
  },
  {
   "cell_type": "code",
   "execution_count": 5,
   "metadata": {},
   "outputs": [
    {
     "name": "stdout",
     "output_type": "stream",
     "text": [
      "/players/jameis-winston/\n",
      "/players/dak-prescott/\n",
      "/players/jared-goff/\n",
      "/players/philip-rivers/\n",
      "/players/matt-ryan/\n",
      "/players/russell-wilson/\n",
      "/players/tom-brady/\n",
      "/players/derek-carr/\n",
      "/players/carson-wentz/\n",
      "/players/patrick-mahomes/\n",
      "/players/aaron-rodgers/\n",
      "/players/jimmy-garoppolo/\n",
      "/players/deshaun-watson/\n",
      "/players/baker-mayfield/\n",
      "/players/kyler-murray/\n",
      "/players/kirk-cousins/\n",
      "/players/ryan-fitzpatrick/\n",
      "/players/andy-dalton/\n",
      "/players/kyle-allen/\n",
      "/players/gardner-minshew/\n",
      "/players/mitchell-trubisky/\n",
      "/players/lamar-jackson/\n",
      "/players/josh-allen-4/\n",
      "/players/daniel-jones/\n",
      "/players/sam-darnold/\n"
     ]
    }
   ],
   "source": [
    "# Find only the links to players\n",
    "# You view the source of the HTML page to get the class. \n",
    "links = soup.find_all('a', class_=\"d3-o-player-fullname nfl-o-cta--link\")\n",
    "\n",
    "for link in links:\n",
    "    names = link.contents[0]\n",
    "    fullLink = link.get('href')\n",
    "    print(fullLink)"
   ]
  },
  {
   "cell_type": "code",
   "execution_count": null,
   "metadata": {},
   "outputs": [],
   "source": []
  }
 ],
 "metadata": {
  "kernelspec": {
   "display_name": "Python 3",
   "language": "python",
   "name": "python3"
  },
  "language_info": {
   "codemirror_mode": {
    "name": "ipython",
    "version": 3
   },
   "file_extension": ".py",
   "mimetype": "text/x-python",
   "name": "python",
   "nbconvert_exporter": "python",
   "pygments_lexer": "ipython3",
   "version": "3.8.3"
  }
 },
 "nbformat": 4,
 "nbformat_minor": 4
}
