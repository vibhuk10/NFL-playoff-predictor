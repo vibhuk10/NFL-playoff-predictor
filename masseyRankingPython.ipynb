{
 "cells": [
  {
   "cell_type": "markdown",
   "metadata": {},
   "source": [
    "# Massey ranking\n",
    "\n",
    "Description: Construct a Massey ranking of data.\n",
    "  \n",
    "Created by Tim Chartier\n",
    "\n",
    "### Set parameters\n",
    "\n",
    "gameFilename - game data file, presumed to be in the format from \n",
    "the Massey rating data server, which can be found at \n",
    "http://www.masseyratings.com/. \n",
    "\n",
    "teamFilename - team data file\n",
    "\n",
    "k - number of teams to print in the final ranking - set to 0 to get all teams"
   ]
  },
  {
   "cell_type": "code",
   "execution_count": 1,
   "metadata": {},
   "outputs": [],
   "source": [
    "gameFilename = 'data/2021games.txt'\n",
    "teamFilename = 'data/2021teams.txt'\n",
    "k = 10"
   ]
  },
  {
   "cell_type": "markdown",
   "metadata": {},
   "source": [
    "### Load the team names into an array"
   ]
  },
  {
   "cell_type": "code",
   "execution_count": 2,
   "metadata": {},
   "outputs": [],
   "source": [
    "import pandas as pd\n",
    "\n",
    "teamNames = pd.read_csv(teamFilename, header = None)\n",
    "numTeams = len(teamNames)"
   ]
  },
  {
   "cell_type": "markdown",
   "metadata": {},
   "source": [
    "### Load the games"
   ]
  },
  {
   "cell_type": "code",
   "execution_count": 3,
   "metadata": {},
   "outputs": [],
   "source": [
    "# columns of games are:\n",
    "#\tcolumn 0 = days since 1/1/0000\n",
    "#\tcolumn 1 = date in YYYYMMDD format\n",
    "#\tcolumn 2 = team1 index\n",
    "#\tcolumn 3 = team1 homefield (1 = home, -1 = away, 0 = neutral)\n",
    "#\tcolumn 4 = team1 score\n",
    "#\tcolumn 5 = team2 index\n",
    "#\tcolumn 6 = team2 homefield (1 = home, -1 = away, 0 = neutral)\n",
    "#\tcolumn 7 = team2 score\n",
    "games = pd.read_csv(gameFilename, header = None)\n",
    "numGames = len(games)"
   ]
  },
  {
   "cell_type": "markdown",
   "metadata": {},
   "source": [
    "### Create the Massey linear system"
   ]
  },
  {
   "cell_type": "code",
   "execution_count": 18,
   "metadata": {},
   "outputs": [
    {
     "name": "stdout",
     "output_type": "stream",
     "text": [
      "[ 167.  105.  324. -139.  -64. -608.  163.  355. -322.   76. -569.   -3.\n",
      "  445.  201.   74.    2.  424. -400.  -21.  166. -766. -670.  402.  419.\n",
      "  129. -265. -125.  -34.  666.    0.]\n"
     ]
    }
   ],
   "source": [
    "import numpy as np\n",
    "\n",
    "masseyMatrix = np.zeros((numTeams,numTeams))\n",
    "b = np.zeros(numTeams)\n",
    "\n",
    "for i in range(numGames):\n",
    "    team1ID = games.loc[i, 2] - 1 # subtracting 1 since python indexes at 0\n",
    "    team1Score = games.loc[i, 4]\n",
    "    team2ID = games.loc[i, 5] - 1 # subtracting 1 since python indexes at 0\n",
    "    team2Score = games.loc[i, 7]\n",
    "    \n",
    "    masseyMatrix[team1ID, team2ID] -= 1\n",
    "    masseyMatrix[team2ID, team1ID] -= 1\n",
    "\n",
    "    masseyMatrix[team1ID, team1ID] += 1\n",
    "    masseyMatrix[team2ID, team2ID] += 1\n",
    "    \n",
    "    pointDifferential = abs(team1Score - team2Score)\n",
    "    \n",
    "    if team1Score > team2Score:\n",
    "        b[team1ID] += pointDifferential\n",
    "        b[team2ID] -= pointDifferential\n",
    "    elif team1Score < team2Score:\n",
    "        b[team1ID] -= pointDifferential\n",
    "        b[team2ID] += pointDifferential\n",
    "        \n",
    "# replace last row with ones and 0 on RHS\n",
    "masseyMatrix[-1,:] = np.ones((1,numTeams))\n",
    "b[-1] = 0\n",
    "print(b)"
   ]
  },
  {
   "cell_type": "code",
   "execution_count": 20,
   "metadata": {},
   "outputs": [
    {
     "name": "stdout",
     "output_type": "stream",
     "text": [
      "[  6.   1.  13.  -2.  -4. -13.   7.  12. -15.   4. -18.  -1.  12.   7.\n",
      "   3.   5.  11. -12.  -4.   6. -13. -14.  14.  16.   7.  -4.  -2.  -8.\n",
      "  17.  -1.]\n"
     ]
    }
   ],
   "source": [
    "colleyMatrix = 2*np.diag(np.ones(numTeams))\n",
    "c = np.ones(numTeams)\n",
    "\n",
    "for i in range(numGames):\n",
    "    team1ID = games.loc[i, 2] - 1 # subtracting 1 since python indexes at 0\n",
    "    team1Score = games.loc[i, 4]\n",
    "    team2ID = games.loc[i, 5] - 1 # subtracting 1 since python indexes at 0\n",
    "    team2Score = games.loc[i, 7]\n",
    "    \n",
    "    colleyMatrix[team1ID, team2ID] -= 1\n",
    "    colleyMatrix[team2ID, team1ID] -= 1\n",
    "\n",
    "    colleyMatrix[team1ID, team1ID] += 1\n",
    "    colleyMatrix[team2ID, team2ID] += 1\n",
    "    \n",
    "    if team1Score > team2Score:\n",
    "        c[team1ID] += 1/2\n",
    "        c[team2ID] -= 1/2\n",
    "    elif team1Score < team2Score:\n",
    "        c[team1ID] -= 1/2\n",
    "        c[team2ID] += 1/2\n",
    "    else:  # it is a tie and make 1/2 a win and 1/2 a loss for both teams\n",
    "        c[team1ID] += 0; # this equates to adding nothing\n",
    "        c[team2ID] += 0; # clearly this code could be deleted\n",
    "        \n",
    "print(c)"
   ]
  },
  {
   "cell_type": "markdown",
   "metadata": {},
   "source": [
    "### Calculate linear system"
   ]
  },
  {
   "cell_type": "code",
   "execution_count": 22,
   "metadata": {},
   "outputs": [
    {
     "name": "stdout",
     "output_type": "stream",
     "text": [
      "[  2.14177778   1.31511111   4.23511111  -1.93822222  -0.93822222\n",
      "  -8.19155556   2.25822222   4.81822222  -4.37822222   1.09822222\n",
      "  -7.50177778  -0.12488889   6.01822222   2.76488889   1.07155556\n",
      "  -0.05822222   5.56844444  -5.24844444  -0.19511111   2.12844444\n",
      " -10.12844444  -9.01822222   5.27511111   5.67155556   1.80488889\n",
      "  -3.44844444  -1.58177778  -0.53822222   8.96488889  -1.84488889]\n"
     ]
    }
   ],
   "source": [
    "#Massey\n",
    "r = np.linalg.solve(masseyMatrix,b)\n",
    "iSort = np.argsort(-r)\n",
    "print(r)\n",
    "#Colley\n",
    "r2 = np.linalg.solve(colleyMatrix,b)"
   ]
  },
  {
   "cell_type": "markdown",
   "metadata": {},
   "source": [
    "### Print the ranking of the teams"
   ]
  },
  {
   "cell_type": "code",
   "execution_count": 6,
   "metadata": {},
   "outputs": [
    {
     "name": "stdout",
     "output_type": "stream",
     "text": [
      "\n",
      "\n",
      "************** MASSEY Rating Method **************\n",
      "\n",
      "===========================\n",
      "Rank   Rating    Team   \n",
      "===========================\n",
      "   1   8.96489   Utah\n",
      "   2   6.01822   LA_Clippers\n",
      "   3   5.67156   Phoenix\n",
      "   4   5.56844   Milwaukee\n",
      "   5   5.27511   Philadelphia\n",
      "   6   4.81822   Denver\n",
      "   7   4.23511   Brooklyn\n",
      "   8   2.76489   LA_Lakers\n",
      "   9   2.25822   Dallas\n",
      "  10   2.14178   Atlanta\n",
      "\n"
     ]
    }
   ],
   "source": [
    "print('\\n\\n************** MASSEY Rating Method **************\\n')\n",
    "print('===========================')\n",
    "print('Rank   Rating    Team   ')\n",
    "print('===========================')\n",
    "if k==0:\n",
    "    numberTeamToPrint = numTeams\n",
    "else:\n",
    "    numberTeamToPrint = k\n",
    "\n",
    "for i in range(numberTeamToPrint):\n",
    "    print(f'{i+1:4d}   {r[iSort[i]]:.5f}  {teamNames.loc[iSort[i],1]}')\n",
    "\n",
    "print('')   # extra carriage return"
   ]
  },
  {
   "cell_type": "markdown",
   "metadata": {},
   "source": [
    "### Calculate predictability of method"
   ]
  },
  {
   "cell_type": "code",
   "execution_count": 7,
   "metadata": {},
   "outputs": [
    {
     "name": "stdout",
     "output_type": "stream",
     "text": [
      "Predictability: 74.88%\n"
     ]
    }
   ],
   "source": [
    "numberCorrectPredictions = 0\n",
    "for i in range(numGames):\n",
    "    team1ID = games.loc[i, 2] - 1 \n",
    "    team1Score = games.loc[i, 4]\n",
    "    team2ID = games.loc[i, 5] - 1 \n",
    "    team2Score = games.loc[i, 7]\n",
    "    \n",
    "    if team1Score > team2Score and r[team1ID] > r[team2ID]:\n",
    "        numberCorrectPredictions += 1\n",
    "    elif team2Score > team1Score and r[team2ID] > r[team1ID]:\n",
    "        numberCorrectPredictions += 1\n",
    "    elif team1Score == team2Score and r[team1ID] == r[team2ID]:\n",
    "        numberCorrectPredictions += 1\n",
    "\n",
    "print(f'Predictability: {numberCorrectPredictions/numGames*100:.2f}%') \n"
   ]
  },
  {
   "cell_type": "code",
   "execution_count": 37,
   "metadata": {},
   "outputs": [
    {
     "data": {
      "text/plain": [
       "<matplotlib.collections.PathCollection at 0x121f14c63d0>"
      ]
     },
     "execution_count": 37,
     "metadata": {},
     "output_type": "execute_result"
    },
    {
     "data": {
      "image/png": "[encoded data removed]",
      "text/plain": [
       "<Figure size 720x720 with 1 Axes>"
      ]
     },
     "metadata": {
      "needs_background": "light"
     },
     "output_type": "display_data"
    }
   ],
   "source": [
    "import matplotlib.pyplot as plt\n",
    "plt.figure(figsize=(10, 10))\n",
    "plt.scatter(b, c, alpha=0.5)\n"
   ]
  },
  {
   "cell_type": "code",
   "execution_count": 38,
   "metadata": {},
   "outputs": [
    {
     "name": "stdout",
     "output_type": "stream",
     "text": [
      "[  2.14177778   1.31511111   4.23511111  -1.93822222  -0.93822222\n",
      "  -8.19155556   2.25822222   4.81822222  -4.37822222   1.09822222\n",
      "  -7.50177778  -0.12488889   6.01822222   2.76488889   1.07155556\n",
      "  -0.05822222   5.56844444  -5.24844444  -0.19511111   2.12844444\n",
      " -10.12844444  -9.01822222   5.27511111   5.67155556   1.80488889\n",
      "  -3.44844444  -1.58177778  -0.53822222   8.96488889  -1.84488889]\n",
      "[ 4.24549644  3.44030163  6.28445748  0.27147047  1.24549644 -5.81943863\n",
      "  4.32593213  6.81943863 -2.10515291  3.196062   -5.18056137  2.03770423\n",
      "  7.98826979  4.81943863  3.17008798  2.1026393   7.58315878 -2.98575618\n",
      "  1.93632174  4.23250943 -7.73900293 -6.62463343  7.29744449  7.65060746\n",
      "  3.88437369 -1.23250943  0.58567239  1.63510683 10.85839966  2.07666527]\n"
     ]
    },
    {
     "data": {
      "text/plain": [
       "<matplotlib.collections.PathCollection at 0x121f1a1ba00>"
      ]
     },
     "execution_count": 38,
     "metadata": {},
     "output_type": "execute_result"
    },
    {
     "data": {
      "image/png": "[encoded data removed]",
      "text/plain": [
       "<Figure size 1080x1080 with 1 Axes>"
      ]
     },
     "metadata": {
      "needs_background": "light"
     },
     "output_type": "display_data"
    }
   ],
   "source": [
    "print(r)\n",
    "print(r2)\n",
    "plt.figure(figsize=(15, 15))\n",
    "plt.scatter(r, r2, alpha=0.5)"
   ]
  }
 ],
 "metadata": {
  "kernelspec": {
   "display_name": "Python 3",
   "language": "python",
   "name": "python3"
  },
  "language_info": {
   "codemirror_mode": {
    "name": "ipython",
    "version": 3
   },
   "file_extension": ".py",
   "mimetype": "text/x-python",
   "name": "python",
   "nbconvert_exporter": "python",
   "pygments_lexer": "ipython3",
   "version": "3.8.3"
  }
 },
 "nbformat": 4,
 "nbformat_minor": 4
}
