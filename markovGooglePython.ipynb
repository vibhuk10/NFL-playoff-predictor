{
 "cells": [
  {
   "cell_type": "code",
   "execution_count": null,
   "metadata": {},
   "outputs": [],
   "source": [
    "# Markov Google\n",
    "\n",
    "This notebook uses Markov Chains to find the PageRank of a network.  \n",
    "\n",
    "The user must supply the adjacency matrix. \n",
    "\n",
    "Created by Tim Chartier. "
   ]
  },
  {
   "cell_type": "code",
   "execution_count": 1,
   "metadata": {},
   "outputs": [],
   "source": [
    "import numpy as np"
   ]
  },
  {
   "cell_type": "markdown",
   "metadata": {},
   "source": [
    "### Create adjacency matrix"
   ]
  },
  {
   "cell_type": "code",
   "execution_count": 22,
   "metadata": {},
   "outputs": [
    {
     "data": {
      "image/png": "[encoded data removed]",
      "text/plain": [
       "<Figure size 432x288 with 1 Axes>"
      ]
     },
     "metadata": {
      "needs_background": "light"
     },
     "output_type": "display_data"
    }
   ],
   "source": [
    "# alpha, beta, gamma, delta, sigma, rho\n",
    "A = np.array([[0,1,0,0,0,0],[0,0,1,1,0,0],[0,0,0,1,1,1],[1,0,0,0,0,0],[1,0,0,0,0,0],[0,0,0,0,1,0]])\n",
    "# Create a random adjacency matrix\n",
    "# import random \n",
    "# A = (np.random.rand(500,500) > .9).astype(int)\n",
    "\n",
    "# Spy plot the matrix\n",
    "import matplotlib.pylab as plt\n",
    "message = plt.spy(A)"
   ]
  },
  {
   "cell_type": "markdown",
   "metadata": {},
   "source": [
    "### Construct the Google matrix"
   ]
  },
  {
   "cell_type": "code",
   "execution_count": 23,
   "metadata": {},
   "outputs": [],
   "source": [
    "# Grab the size of the network\n",
    "sizeOfNetwork = len(A)\n",
    "# Remove loops (links to one's own webpage)\n",
    "A = A - np.diag(np.diag(A))"
   ]
  },
  {
   "cell_type": "code",
   "execution_count": 24,
   "metadata": {},
   "outputs": [
    {
     "name": "stdout",
     "output_type": "stream",
     "text": [
      "G = \n",
      " [[0.025      0.875      0.025      0.025      0.025      0.025     ]\n",
      " [0.025      0.025      0.45       0.45       0.025      0.025     ]\n",
      " [0.025      0.025      0.025      0.30833333 0.30833333 0.30833333]\n",
      " [0.875      0.025      0.025      0.025      0.025      0.025     ]\n",
      " [0.875      0.025      0.025      0.025      0.025      0.025     ]\n",
      " [0.025      0.025      0.025      0.025      0.875      0.025     ]]\n"
     ]
    }
   ],
   "source": [
    "alpha = 0.85 # teleportation parameter\n",
    "rowSum = np.sum(A,1) # Compute the row sums\n",
    "G = np.zeros((sizeOfNetwork,sizeOfNetwork)) # initalize the Google matrix \n",
    "for i in range(sizeOfNetwork):\n",
    "    if (rowSum[i] == 0): # dangling node\n",
    "       G[i,:] = np.ones((1,sizeOfNetwork))/sizeOfNetwork\n",
    "    else:\n",
    "       G[i,:] = alpha*A[i,:]/rowSum[i] + (1-alpha)/sizeOfNetwork\n",
    "print('G = \\n',G)"
   ]
  },
  {
   "cell_type": "markdown",
   "metadata": {},
   "source": [
    "### Loop to compute PageRank"
   ]
  },
  {
   "cell_type": "code",
   "execution_count": 29,
   "metadata": {},
   "outputs": [],
   "source": [
    "numberOfLoops = 100\n",
    "v0 = np.zeros(sizeOfNetwork) # initial state\n",
    "v0[np.random.randint(sizeOfNetwork)] = 1 # create a random webpage on which to start\n",
    "v = v0\n",
    "for i in range(numberOfLoops):\n",
    "    v = v@G"
   ]
  },
  {
   "cell_type": "markdown",
   "metadata": {},
   "source": [
    "### Sort and print PageRank"
   ]
  },
  {
   "cell_type": "code",
   "execution_count": 54,
   "metadata": {},
   "outputs": [
    {
     "name": "stdout",
     "output_type": "stream",
     "text": [
      "Page  PageRank  \n",
      "===============\n",
      "alpha    0.26753\n",
      "beta     0.25240\n",
      "delta    0.16975\n",
      "gamma    0.13227\n",
      "sigma    0.11558\n",
      "rho      0.06248\n"
     ]
    }
   ],
   "source": [
    "pageNames = np.array(['alpha', 'beta', 'gamma', 'delta', 'sigma', 'rho'])\n",
    "\n",
    "iSort = np.argsort(-v)\n",
    "# the -v gives us a reverse sort and np.argsort gives us the indices of the sort\n",
    "print('Page  PageRank  \\n===============')\n",
    "for i in range(sizeOfNetwork):\n",
    "    print(f'{pageNames[iSort[i]]:6}   {v[iSort[i]]:7.5f}')\n",
    "    \n"
   ]
  },
  {
   "cell_type": "markdown",
   "metadata": {},
   "source": [
    "### Graph the PageRank"
   ]
  },
  {
   "cell_type": "code",
   "execution_count": 8,
   "metadata": {},
   "outputs": [
    {
     "data": {
      "image/png": "[encoded data removed]",
      "text/plain": [
       "<Figure size 432x288 with 1 Axes>"
      ]
     },
     "metadata": {
      "needs_background": "light"
     },
     "output_type": "display_data"
    },
    {
     "name": "stdout",
     "output_type": "stream",
     "text": [
      "[0.26752808 0.25239887 0.13226952 0.16974588 0.11558127 0.06247636]\n"
     ]
    }
   ],
   "source": [
    "import matplotlib.pyplot as plt\n",
    "plt.plot(sorted(v))\n",
    "plt.show()"
   ]
  },
  {
   "cell_type": "code",
   "execution_count": null,
   "metadata": {},
   "outputs": [],
   "source": []
  }
 ],
 "metadata": {
  "kernelspec": {
   "display_name": "Python 3",
   "language": "python",
   "name": "python3"
  },
  "language_info": {
   "codemirror_mode": {
    "name": "ipython",
    "version": 3
   },
   "file_extension": ".py",
   "mimetype": "text/x-python",
   "name": "python",
   "nbconvert_exporter": "python",
   "pygments_lexer": "ipython3",
   "version": "3.8.3"
  }
 },
 "nbformat": 4,
 "nbformat_minor": 4
}
